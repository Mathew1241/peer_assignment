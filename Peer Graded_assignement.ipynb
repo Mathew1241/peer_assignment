{
 "cells": [
  {
   "cell_type": "markdown",
   "metadata": {},
   "source": [
    "<center>\n",
    "    <img src=\"https://cf-courses-data.s3.us.cloud-object-storage.appdomain.cloud/IBMDeveloperSkillsNetwork-DS0105EN-SkillsNetwork/labs/Module2/images/SN_web_lightmode.png\" width=\"300\" alt=\"cognitiveclass.ai logo\">\n",
    "</center>\n"
   ]
  },
  {
   "cell_type": "markdown",
   "metadata": {},
   "source": [
    "#### Add your code below following the instructions given in the course\n"
   ]
  },
  {
   "cell_type": "markdown",
   "metadata": {},
   "source": [
    "# Data Science Tools and Ecosystem:"
   ]
  },
  {
   "cell_type": "markdown",
   "metadata": {},
   "source": [
    "# Introduction\n",
    "\n",
    "This is an introduction to markdown cells in Jupyter Notebooks. Markdown cells allow you to write and render text using markdown syntax, making it easy to create formatted text, such as headings, bold, italic, and more."
   ]
  },
  {
   "cell_type": "markdown",
   "metadata": {},
   "source": [
    "## Data science Languages :\n",
    "-Python\n",
    "-SQL\n",
    "-R\n",
    "-Julia\n",
    "-Matlab"
   ]
  },
  {
   "cell_type": "markdown",
   "metadata": {},
   "source": [
    "## Data Science Libraries\n",
    "\n",
    "- NumPy\n",
    "- Pandas\n",
    "- Matplotlib\n",
    "- Seaborn\n",
    "- Scikit-learn\n",
    "- TensorFlow\n",
    "- PyTorch\n",
    "- Keras\n",
    "- NLTK\n",
    "- OpenCV"
   ]
  },
  {
   "cell_type": "markdown",
   "metadata": {
    "tags": []
   },
   "source": [
    "## Data Science Tools\n",
    "\n",
    "| Language | Libraries |\n",
    "| -------- | -------- |\n",
    "| Python | NumPy, Pandas, Matplotlib, Seaborn, Scikit-learn, TensorFlow, PyTorch, Keras, NLTK, OpenCV |\n",
    "| R | ggplot2, dplyr, tidyr, caret, shiny, data.table, lubridate, stringr, tidymodels |\n",
    "| SQL | MySQL, PostgreSQL, SQLite, Oracle, Microsoft SQL Server |\n",
    "| Julia | DataFrames, Plots, Flux, JuMP, DifferentialEquations, Gadfly |\n",
    "| MATLAB | Statistics and Machine Learning Toolbox, Deep Learning Toolbox, Image Processing Toolbox, Optimization Toolbox |\n"
   ]
  },
  {
   "cell_type": "markdown",
   "metadata": {},
   "source": [
    "## arithmetic expression with examples:\n",
    "Arithmetic expressions are mathematical statements that involve operations such as addition, subtraction, multiplication, and division\n",
    "| Operation | Expression | Result |\n",
    "| --- | --- | --- |\n",
    "| Addition | $$1 + 2$$ | 3 |\n",
    "| Subtraction | $$5 - 3$$ | 2 |\n",
    "| Multiplication | $$2 \\cdot 3$$ | 6 |\n",
    "| Division | $$\\frac{6}{2}$$ | 3 |\n",
    "| Exponentiation | $$2^{10}$$ | 1024 |"
   ]
  },
  {
   "cell_type": "code",
   "execution_count": 2,
   "metadata": {
    "tags": []
   },
   "outputs": [
    {
     "data": {
      "text/plain": [
       "48"
      ]
     },
     "execution_count": 2,
     "metadata": {},
     "output_type": "execute_result"
    }
   ],
   "source": [
    "(5+3)*6"
   ]
  },
  {
   "cell_type": "code",
   "execution_count": 3,
   "metadata": {
    "tags": []
   },
   "outputs": [
    {
     "name": "stdout",
     "output_type": "stream",
     "text": [
      "3.3333333333333335\n"
     ]
    }
   ],
   "source": [
    "# converting mins to hours\n",
    "mins = 200;\n",
    "hours = mins/60;\n",
    "print(hours)"
   ]
  },
  {
   "cell_type": "markdown",
   "metadata": {
    "tags": []
   },
   "source": [
    "## Objectives\n",
    "\n",
    "1. Introduce arithmetic expressions and their solutions using LaTeX syntax.\n",
    "2. Create and run code cells in Jupyter Notebooks to perform calculations and display results.\n",
    "3. Utilize markdown cells to format text as headings, lists, and tables.\n",
    "4. Convert minutes to hours using Python code and display the results.\n"
   ]
  },
  {
   "cell_type": "markdown",
   "metadata": {},
   "source": [
    "## AUTHOR:\n",
    "|--Mathew--|"
   ]
  },
  {
   "cell_type": "code",
   "execution_count": null,
   "metadata": {},
   "outputs": [],
   "source": []
  }
 ],
 "metadata": {
  "kernelspec": {
   "display_name": "Python",
   "language": "python",
   "name": "conda-env-python-py"
  },
  "language_info": {
   "codemirror_mode": {
    "name": "ipython",
    "version": 3
   },
   "file_extension": ".py",
   "mimetype": "text/x-python",
   "name": "python",
   "nbconvert_exporter": "python",
   "pygments_lexer": "ipython3",
   "version": "3.7.12"
  }
 },
 "nbformat": 4,
 "nbformat_minor": 4
}
